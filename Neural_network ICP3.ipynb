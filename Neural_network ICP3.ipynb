{
 "cells": [
  {
   "cell_type": "code",
   "execution_count": 31,
   "id": "7ce00e78",
   "metadata": {},
   "outputs": [
    {
     "name": "stdout",
     "output_type": "stream",
     "text": [
      "Year end bonus is provided for full time employees.\n",
      "Average salary: 5375.162\n"
     ]
    }
   ],
   "source": [
    "class Employee:\n",
    "    emp_count = 0\n",
    "    def __init__(self,name,family,salary,department):\n",
    "        self.Name = name\n",
    "        self.Family = family\n",
    "        self.Salary = salary\n",
    "        self.Department = department\n",
    "        Employee.emp_count += 1\n",
    "    def average_salary(employees):\n",
    "        sum = 0\n",
    "        for employee in employees:\n",
    "            sum += employee.Salary\n",
    "        return sum / Employee.emp_count\n",
    "    \n",
    "class FulltimeEmployee(Employee):\n",
    "\n",
    "    def __init__(self, name, family, salary, department):\n",
    "        super().__init__(name, family, salary, department)\n",
    "\n",
    "    def year_end_bonus(self):\n",
    "        print(\"Year end bonus is provided for full time employees.\")\n",
    "\n",
    "def main():\n",
    "    employees = []\n",
    "    e1 = FulltimeEmployee(\"Bob\", \"william\", 6000, \"CS\")\n",
    "    e2 = FulltimeEmployee(\"Mary\", \"Thomas\", 8529.486, \"IT\")\n",
    "    e3 = FulltimeEmployee(\"Harry\", \"Potter\", 1596, \"Management\")\n",
    "    \n",
    "    e1.year_end_bonus()\n",
    "    employees.append(e1)\n",
    "    employees.append(e2)\n",
    "    employees.append(e3)\n",
    "    print(\"Average salary:\", FulltimeEmployee.average_salary(employees))\n",
    "\n",
    "\n",
    "if __name__ == \"__main__\":\n",
    "    main()"
   ]
  },
  {
   "cell_type": "markdown",
   "id": "f33a0a72",
   "metadata": {},
   "source": [
    "Created a class named Employee and created a data member named emp_count to count the number of employees. Constuctor has been created to initialize parameters. average_salary funtion is created and employees list is passed as an argument to calculate average salary. Full_Time_Employee class has been created that extends the properties of Employee class. average_salary function is called by creating the object for Full_Time_Employee class."
   ]
  },
  {
   "cell_type": "code",
   "execution_count": 32,
   "id": "3499eb27",
   "metadata": {},
   "outputs": [
    {
     "name": "stdout",
     "output_type": "stream",
     "text": [
      "[ 9.63124347 15.3712248  10.06871979  8.76620816  3.82275108  7.57478634\n",
      " 15.88551222 15.77609843 12.32798532  2.04064447  9.36746268 10.26188993\n",
      " 15.10721864  9.1514908   8.06312829  4.80214331  5.19954715 17.57608127\n",
      " 18.9058742   8.85953908]\n",
      "Array : [ 9.63124347 15.3712248  10.06871979  8.76620816  3.82275108  7.57478634\n",
      " 15.88551222 15.77609843 12.32798532  2.04064447  9.36746268 10.26188993\n",
      " 15.10721864  9.1514908   8.06312829  4.80214331  5.19954715 17.57608127\n",
      " 18.9058742   8.85953908]\n",
      "First Reshaped Array 4 x 5 : \n",
      "[[ 9.63124347 15.3712248  10.06871979  8.76620816  3.82275108]\n",
      " [ 7.57478634 15.88551222 15.77609843 12.32798532  2.04064447]\n",
      " [ 9.36746268 10.26188993 15.10721864  9.1514908   8.06312829]\n",
      " [ 4.80214331  5.19954715 17.57608127 18.9058742   8.85953908]]\n",
      "[[ 9.63124347  0.         10.06871979  8.76620816  3.82275108]\n",
      " [ 7.57478634  0.         15.77609843 12.32798532  2.04064447]\n",
      " [ 9.36746268 10.26188993  0.          9.1514908   8.06312829]\n",
      " [ 4.80214331  5.19954715 17.57608127  0.          8.85953908]]\n"
     ]
    }
   ],
   "source": [
    "# importing numpy\n",
    "import numpy as np\n",
    "a = np.random.uniform(1,20,20)\n",
    "print(a)\n",
    "\n",
    "array = a;\n",
    "print(\"Array : \" + str(array))\n",
    "n = array.size\n",
    "\n",
    "N = 4\n",
    "M = n//N\n",
    "\n",
    "# reshaping numpy array\n",
    "# converting it to 2-D from 1-D array\n",
    "reshaped = array.reshape((N, M))\n",
    "\n",
    "# printing reshaped array\n",
    "print(\"First Reshaped Array 4 x 5 : \")\n",
    "print(reshaped)\n",
    "\n",
    "a = reshaped\n",
    "b = a\n",
    "b[np.arange(len(a)), a.argmax(1)] = 0\n",
    "print(b)"
   ]
  },
  {
   "cell_type": "markdown",
   "id": "9b9f012e",
   "metadata": {},
   "source": [
    "Imported numpy library and A vector has been created with random values of size 20 with range between 1 to 20. Array is reshaped to size of rows and columns of 4 and 5 using reshape method. Maximum element of each row of array is replaced with zero."
   ]
  }
 ],
 "metadata": {
  "kernelspec": {
   "display_name": "Python 3 (ipykernel)",
   "language": "python",
   "name": "python3"
  },
  "language_info": {
   "codemirror_mode": {
    "name": "ipython",
    "version": 3
   },
   "file_extension": ".py",
   "mimetype": "text/x-python",
   "name": "python",
   "nbconvert_exporter": "python",
   "pygments_lexer": "ipython3",
   "version": "3.9.13"
  }
 },
 "nbformat": 4,
 "nbformat_minor": 5
}
